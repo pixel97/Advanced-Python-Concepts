{
 "cells": [
  {
   "cell_type": "code",
   "execution_count": 2,
   "metadata": {},
   "outputs": [],
   "source": [
    "import time"
   ]
  },
  {
   "cell_type": "code",
   "execution_count": 16,
   "metadata": {},
   "outputs": [],
   "source": [
    "def calc_area(num):\n",
    "    start = time.time()\n",
    "    result = []\n",
    "    for x in num:\n",
    "        area = x*x\n",
    "        result.append(area)\n",
    "    end = time.time()\n",
    "    print(\"calc_area took \" + str((end-start)*1000) + \" milsec\")\n",
    "    return result\n",
    "\n",
    "def calc_perimeter(num):\n",
    "    start = time.time()\n",
    "    result = []\n",
    "    for x in num:\n",
    "        peri = 4*x\n",
    "        result.append(peri)\n",
    "    end = time.time()\n",
    "    print(\"calc_perimeter took \" + str((end-start)*1000) + \" milsec\")\n",
    "    return result"
   ]
  },
  {
   "cell_type": "code",
   "execution_count": 18,
   "metadata": {},
   "outputs": [
    {
     "name": "stdout",
     "output_type": "stream",
     "text": [
      "calc_area took 0.0 milsec\n",
      "calc_perimeter took 0.0 milsec\n"
     ]
    }
   ],
   "source": [
    "array = range(1,1000)\n",
    "area = calc_area(array)\n",
    "area = calc_perimeter(array)"
   ]
  },
  {
   "cell_type": "code",
   "execution_count": 19,
   "metadata": {},
   "outputs": [],
   "source": [
    "# Instead of writing the time functionality everytime we can make a wrapper and reuse it"
   ]
  },
  {
   "cell_type": "code",
   "execution_count": 25,
   "metadata": {},
   "outputs": [],
   "source": [
    "def time_it(func): # pass function as argument\n",
    "    \n",
    "    def wrapper(*args,**kwargs): # define time function\n",
    "        \n",
    "        start = time.time()\n",
    "        result =func(*args,**kwargs)\n",
    "        end = time.time()\n",
    "        print(func.__name__+  \" took \" + str((end-start)*1000)+\" milsec \")\n",
    "        return result\n",
    "    return wrapper\n",
    "        \n",
    "    "
   ]
  },
  {
   "cell_type": "code",
   "execution_count": 26,
   "metadata": {},
   "outputs": [],
   "source": [
    "# Now decorate the functions"
   ]
  },
  {
   "cell_type": "code",
   "execution_count": 27,
   "metadata": {},
   "outputs": [],
   "source": [
    "@time_it\n",
    "def calc_area1(num):\n",
    "    result = []\n",
    "    for x in num:\n",
    "        area = x*x\n",
    "        result.append(area)\n",
    "    return result\n",
    "\n",
    "@time_it\n",
    "def calc_perimeter1(num):\n",
    "    result = []\n",
    "    for x in num:\n",
    "        peri = 4*x\n",
    "        result.append(peri)\n",
    "    return result"
   ]
  },
  {
   "cell_type": "code",
   "execution_count": 28,
   "metadata": {},
   "outputs": [
    {
     "name": "stdout",
     "output_type": "stream",
     "text": [
      "calc_area1 took 0.9968280792236328 milsec \n",
      "calc_perimeter1 took 0.0 milsec \n"
     ]
    }
   ],
   "source": [
    "array = range(1,1000)\n",
    "area = calc_area1(array)\n",
    "area = calc_perimeter1(array)"
   ]
  },
  {
   "cell_type": "code",
   "execution_count": null,
   "metadata": {},
   "outputs": [],
   "source": []
  }
 ],
 "metadata": {
  "kernelspec": {
   "display_name": "Python 3",
   "language": "python",
   "name": "python3"
  },
  "language_info": {
   "codemirror_mode": {
    "name": "ipython",
    "version": 3
   },
   "file_extension": ".py",
   "mimetype": "text/x-python",
   "name": "python",
   "nbconvert_exporter": "python",
   "pygments_lexer": "ipython3",
   "version": "3.7.4"
  }
 },
 "nbformat": 4,
 "nbformat_minor": 2
}

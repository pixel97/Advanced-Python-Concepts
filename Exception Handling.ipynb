{
 "cells": [
  {
   "cell_type": "code",
   "execution_count": 1,
   "metadata": {},
   "outputs": [],
   "source": [
    "# Handling multiple errors"
   ]
  },
  {
   "cell_type": "code",
   "execution_count": 8,
   "metadata": {},
   "outputs": [
    {
     "name": "stdout",
     "output_type": "stream",
     "text": [
      "\n",
      "Error Occurred and Handled\n"
     ]
    }
   ],
   "source": [
    "try :  \n",
    "    a = 3\n",
    "    if a < 4 : \n",
    "  \n",
    "        # throws ZeroDivisionError for a = 3  \n",
    "        b = a/(a-3) \n",
    "      \n",
    "    # throws NameError if a >= 4 \n",
    "    print(\"Value of b = \", b) \n",
    "  \n",
    "# note that braces () are necessary here for multiple exceptions \n",
    "except(ZeroDivisionError, NameError): \n",
    "    print(\"\\nError Occurred and Handled\")"
   ]
  },
  {
   "cell_type": "code",
   "execution_count": 9,
   "metadata": {},
   "outputs": [],
   "source": [
    "# using else clause"
   ]
  },
  {
   "cell_type": "code",
   "execution_count": 10,
   "metadata": {},
   "outputs": [
    {
     "name": "stdout",
     "output_type": "stream",
     "text": [
      "Value of b =  -2.0\n",
      "2\n"
     ]
    }
   ],
   "source": [
    "try :  \n",
    "    a = 2\n",
    "    if a < 4 : \n",
    "  \n",
    "        # throws ZeroDivisionError for a = 3  \n",
    "        b = a/(a-3) \n",
    "      \n",
    "    # throws NameError if a >= 4 \n",
    "    print(\"Value of b = \", b) \n",
    "  \n",
    "# note that braces () are necessary here for multiple exceptions \n",
    "except(ZeroDivisionError, NameError): \n",
    "    print(\"\\nError Occurred and Handled\")\n",
    "\n",
    "else:\n",
    "    print(a)"
   ]
  },
  {
   "cell_type": "code",
   "execution_count": 11,
   "metadata": {},
   "outputs": [],
   "source": [
    "# Using finally keyword"
   ]
  },
  {
   "cell_type": "code",
   "execution_count": 12,
   "metadata": {},
   "outputs": [
    {
     "name": "stdout",
     "output_type": "stream",
     "text": [
      "\n",
      "Error Occurred and Handled\n",
      "This is always excecuted\n"
     ]
    }
   ],
   "source": [
    "try :  \n",
    "    a = 3\n",
    "    if a < 4 : \n",
    "  \n",
    "        # throws ZeroDivisionError for a = 3  \n",
    "        b = a/(a-3) \n",
    "      \n",
    "    # throws NameError if a >= 4 \n",
    "    print(\"Value of b = \", b) \n",
    "  \n",
    "# note that braces () are necessary here for multiple exceptions \n",
    "except(ZeroDivisionError, NameError): \n",
    "    print(\"\\nError Occurred and Handled\")\n",
    "\n",
    "else:\n",
    "    print(a)\n",
    "\n",
    "finally:\n",
    "    print('This is always excecuted')"
   ]
  },
  {
   "cell_type": "code",
   "execution_count": 13,
   "metadata": {},
   "outputs": [],
   "source": [
    "# Raising exception"
   ]
  },
  {
   "cell_type": "code",
   "execution_count": 21,
   "metadata": {},
   "outputs": [
    {
     "name": "stdout",
     "output_type": "stream",
     "text": [
      "An exception\n"
     ]
    }
   ],
   "source": [
    "try :  \n",
    "    a = 3\n",
    "    if a < 4 : \n",
    "  \n",
    "     a = a/a-3\n",
    "    raise ZeroDivisionError(\"0 found in denom.\")\n",
    "    \n",
    "except ZeroDivisionError: \n",
    "        print(\"An exception\")\n",
    "        "
   ]
  },
  {
   "cell_type": "code",
   "execution_count": null,
   "metadata": {},
   "outputs": [],
   "source": []
  }
 ],
 "metadata": {
  "kernelspec": {
   "display_name": "Python 3",
   "language": "python",
   "name": "python3"
  },
  "language_info": {
   "codemirror_mode": {
    "name": "ipython",
    "version": 3
   },
   "file_extension": ".py",
   "mimetype": "text/x-python",
   "name": "python",
   "nbconvert_exporter": "python",
   "pygments_lexer": "ipython3",
   "version": "3.7.4"
  }
 },
 "nbformat": 4,
 "nbformat_minor": 2
}

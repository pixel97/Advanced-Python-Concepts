{
 "cells": [
  {
   "cell_type": "code",
   "execution_count": 13,
   "metadata": {},
   "outputs": [],
   "source": [
    "class Vehicle:\n",
    "    \n",
    "    def general_usage(self):\n",
    "        print(\"For transportation\")\n",
    "        \n",
    "class Car(Vehicle):\n",
    "    \n",
    "    def __init__(self):\n",
    "        print(\"A car\")\n",
    "        self.wheels = 4\n",
    "        self.roof = True\n",
    "    \n",
    "    def specific_usage(self):\n",
    "        print('Commute to office')\n",
    "\n",
    "class bike(Vehicle):\n",
    "    \n",
    "    def __init__(self):\n",
    "        print(\"A bike\")\n",
    "        self.wheels = 2\n",
    "        self.roof = False\n",
    "        \n",
    "    def specific_usage(self):\n",
    "        print('For road trips')\n",
    "   "
   ]
  },
  {
   "cell_type": "code",
   "execution_count": 16,
   "metadata": {},
   "outputs": [
    {
     "name": "stdout",
     "output_type": "stream",
     "text": [
      "A car\n",
      "For transportation\n"
     ]
    }
   ],
   "source": [
    "c = Car()\n",
    "c.general_usage()"
   ]
  },
  {
   "cell_type": "code",
   "execution_count": 15,
   "metadata": {},
   "outputs": [
    {
     "name": "stdout",
     "output_type": "stream",
     "text": [
      "Commute to office\n"
     ]
    }
   ],
   "source": [
    "c.specific_usage()"
   ]
  },
  {
   "cell_type": "code",
   "execution_count": 17,
   "metadata": {},
   "outputs": [
    {
     "name": "stdout",
     "output_type": "stream",
     "text": [
      "A bike\n",
      "For transportation\n"
     ]
    }
   ],
   "source": [
    "b = bike()\n",
    "b.general_usage()"
   ]
  },
  {
   "cell_type": "code",
   "execution_count": 18,
   "metadata": {},
   "outputs": [
    {
     "name": "stdout",
     "output_type": "stream",
     "text": [
      "For road trips\n"
     ]
    }
   ],
   "source": [
    "b.specific_usage()"
   ]
  },
  {
   "cell_type": "code",
   "execution_count": 19,
   "metadata": {},
   "outputs": [
    {
     "name": "stdout",
     "output_type": "stream",
     "text": [
      "True\n"
     ]
    }
   ],
   "source": [
    "print(isinstance(c,Car))"
   ]
  },
  {
   "cell_type": "code",
   "execution_count": 21,
   "metadata": {},
   "outputs": [
    {
     "name": "stdout",
     "output_type": "stream",
     "text": [
      "False\n"
     ]
    }
   ],
   "source": [
    "print(issubclass(bike,Car))"
   ]
  },
  {
   "cell_type": "code",
   "execution_count": 22,
   "metadata": {},
   "outputs": [],
   "source": [
    "# Multiple inheritance"
   ]
  },
  {
   "cell_type": "code",
   "execution_count": 26,
   "metadata": {},
   "outputs": [],
   "source": [
    "class Father():\n",
    "    def gardening(self):\n",
    "        print('Enjoy gardening')\n",
    "        \n",
    "class Mother():\n",
    "    def cooking(self):\n",
    "        print('Enjoy cooking')\n",
    "        \n",
    "class child(Father,Mother):\n",
    "    def sports(self):\n",
    "        print('Plays sports')\n",
    "    "
   ]
  },
  {
   "cell_type": "code",
   "execution_count": 27,
   "metadata": {},
   "outputs": [
    {
     "name": "stdout",
     "output_type": "stream",
     "text": [
      "Enjoy gardening\n",
      "Enjoy cooking\n",
      "Plays sports\n"
     ]
    }
   ],
   "source": [
    "c = child()\n",
    "c.gardening()\n",
    "c.cooking()\n",
    "c.sports()"
   ]
  },
  {
   "cell_type": "code",
   "execution_count": 28,
   "metadata": {},
   "outputs": [],
   "source": [
    "# Handling same methods in all the classes\n"
   ]
  },
  {
   "cell_type": "code",
   "execution_count": 32,
   "metadata": {},
   "outputs": [],
   "source": [
    "class Father():\n",
    "    def skills(self):\n",
    "        print('Enjoy gardening')\n",
    "        \n",
    "class Mother():\n",
    "    def skills(self):\n",
    "        print('Enjoy cooking')\n",
    "        \n",
    "class child(Father,Mother):\n",
    "    def skills(self):\n",
    "        Father.skills(self)\n",
    "        Mother.skills(self)\n",
    "        print('Plays sports')\n",
    "    "
   ]
  },
  {
   "cell_type": "code",
   "execution_count": 33,
   "metadata": {},
   "outputs": [
    {
     "name": "stdout",
     "output_type": "stream",
     "text": [
      "Enjoy gardening\n",
      "Enjoy cooking\n",
      "Plays sports\n"
     ]
    }
   ],
   "source": [
    "c = child()\n",
    "c.skills()"
   ]
  },
  {
   "cell_type": "code",
   "execution_count": null,
   "metadata": {},
   "outputs": [],
   "source": []
  }
 ],
 "metadata": {
  "kernelspec": {
   "display_name": "Python 3",
   "language": "python",
   "name": "python3"
  },
  "language_info": {
   "codemirror_mode": {
    "name": "ipython",
    "version": 3
   },
   "file_extension": ".py",
   "mimetype": "text/x-python",
   "name": "python",
   "nbconvert_exporter": "python",
   "pygments_lexer": "ipython3",
   "version": "3.7.4"
  }
 },
 "nbformat": 4,
 "nbformat_minor": 2
}
